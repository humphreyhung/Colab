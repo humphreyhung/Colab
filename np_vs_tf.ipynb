{
  "nbformat": 4,
  "nbformat_minor": 0,
  "metadata": {
    "colab": {
      "provenance": [],
      "gpuType": "T4",
      "authorship_tag": "ABX9TyOYnGiWDkB9HiAJ1Qz6d6wK",
      "include_colab_link": true
    },
    "kernelspec": {
      "name": "python3",
      "display_name": "Python 3"
    },
    "language_info": {
      "name": "python"
    },
    "accelerator": "GPU"
  },
  "cells": [
    {
      "cell_type": "markdown",
      "metadata": {
        "id": "view-in-github",
        "colab_type": "text"
      },
      "source": [
        "<a href=\"https://colab.research.google.com/github/humphreyhung/Colab/blob/main/np_vs_tf.ipynb\" target=\"_parent\"><img src=\"https://colab.research.google.com/assets/colab-badge.svg\" alt=\"Open In Colab\"/></a>"
      ]
    },
    {
      "cell_type": "code",
      "execution_count": 1,
      "metadata": {
        "colab": {
          "base_uri": "https://localhost:8080/"
        },
        "id": "7uHg7kVx4gTe",
        "outputId": "5406503f-ab74-4019-eff5-a94ae13561cb"
      },
      "outputs": [
        {
          "output_type": "stream",
          "name": "stdout",
          "text": [
            "numpy 花費 : 7.919811964035034秒\n",
            "tf 花費 : 0.940718412399292秒\n"
          ]
        }
      ],
      "source": [
        "import os\n",
        "import time\n",
        "\n",
        "import tensorflow as tf\n",
        "import pylab as plt\n",
        "import numpy as np\n",
        "os.environ['TF_CPP_MIN_LOG_LEVEL']='2'\n",
        "batch=500_000_000\n",
        "t1=time.time()\n",
        "a=np.random.uniform(size=batch)\n",
        "t2=time.time()\n",
        "print(f'numpy 花費 : {t2-t1}秒')\n",
        "\n",
        "t1=time.time()\n",
        "a=tf.random.uniform(shape=[batch])\n",
        "t2=time.time()\n",
        "print(f'tf 花費 : {t2-t1}秒')"
      ]
    }
  ]
}